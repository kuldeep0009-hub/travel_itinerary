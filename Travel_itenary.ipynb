{
  "cells": [
    {
      "cell_type": "code",
      "execution_count": 12,
      "metadata": {
        "id": "hWB8LvEEOFnU"
      },
      "outputs": [],
      "source": [
        "#!pip install requests==2.32.4 --quiet\n",
        "\n"
      ]
    },
    {
      "cell_type": "code",
      "execution_count": 13,
      "metadata": {
        "id": "X4VmETnjNgBm"
      },
      "outputs": [],
      "source": [
        "#pip install langchain langchain_core langchain_groq langchain_community langgraph"
      ]
    },
    {
      "cell_type": "code",
      "execution_count": 14,
      "metadata": {
        "id": "1Sm2FZy3N04V"
      },
      "outputs": [],
      "source": [
        "import os\n",
        "from typing import TypedDict,Annotated,List\n",
        "from langgraph.graph import StateGraph,END\n",
        "from langchain_core.messages import HumanMessage,AIMessage\n",
        "from langchain_core.prompts import ChatPromptTemplate\n",
        "from langchain_core.runnables.graph import MermaidDrawMethod\n",
        "from IPython.display import display,Image"
      ]
    },
    {
      "cell_type": "code",
      "execution_count": 15,
      "metadata": {
        "id": "ySkD4mPpPZmH"
      },
      "outputs": [],
      "source": [
        "class PlannerState(TypedDict):\n",
        "  messages:Annotated[List[HumanMessage|AIMessage],'the message in the conversation']\n",
        "  city:str\n",
        "  interest:List[str]\n",
        "  itinerary:str\n"
      ]
    },
    {
      "cell_type": "code",
      "execution_count": 16,
      "metadata": {
        "id": "yOXdO9qyRe-H"
      },
      "outputs": [
        {
          "name": "stderr",
          "output_type": "stream",
          "text": [
            "python-dotenv could not parse statement starting at line 11\n",
            "python-dotenv could not parse statement starting at line 12\n",
            "python-dotenv could not parse statement starting at line 13\n"
          ]
        }
      ],
      "source": [
        "import os \n",
        "from dotenv import load_dotenv\n",
        "load_dotenv()\n",
        "groq_api_key=os.getenv(\"GROQ_API_KEY\")\n",
        "from langchain_groq import ChatGroq\n",
        "llm=ChatGroq(\n",
        "    temperature=0,\n",
        "    groq_api_key=groq_api_key,\n",
        "    model_name='llama-3.3-70b-versatile'\n",
        ")\n",
        "result=llm.invoke(\"what is human\")"
      ]
    },
    {
      "cell_type": "code",
      "execution_count": 17,
      "metadata": {
        "colab": {
          "base_uri": "https://localhost:8080/",
          "height": 137
        },
        "id": "2WX3FAYYSM0x",
        "outputId": "4c2bccef-ff06-4acb-b9d3-9c5eed12b8b9"
      },
      "outputs": [
        {
          "data": {
            "text/plain": [
              "'The question \"what is human\" is a complex and multifaceted one that has been debated and explored by philosophers, scientists, anthropologists, and many others across various disciplines. The answer can vary depending on the context and perspective, but here\\'s a comprehensive overview:\\n\\n**Biological Perspective:**\\nFrom a biological standpoint, humans (Homo sapiens) are a species of primates that belong to the family Hominidae. We are characterized by our upright posture, binocular vision, and a highly developed brain. Humans are composed of approximately 37.2 trillion cells, with a unique genetic makeup that sets us apart from other species.\\n\\n**Physical Characteristics:**\\nHumans have a range of physical characteristics, including:\\n\\n1. Upright posture: We walk on two legs, which allows us to move efficiently and use our hands for other tasks.\\n2. Brain development: Our brain is highly developed, with a large cerebral cortex, which enables advanced cognitive functions, such as language, problem-solving, and abstract thinking.\\n3. Sensory organs: We have a range of sensory organs, including eyes, ears, nose, tongue, and skin, which allow us to perceive and interact with our environment.\\n4. Body structure: Our body is composed of a skeleton, muscles, organs, and tissues, which work together to maintain our overall health and function.\\n\\n**Psychological and Social Perspective:**\\nHumans are also characterized by our complex psychological and social nature. We:\\n\\n1. Possess consciousness: We have a sense of self-awareness, emotions, and thoughts, which enable us to experience the world in a unique way.\\n2. Communicate: We use language to convey ideas, emotions, and intentions, which allows us to form complex social relationships and cultures.\\n3. Form social bonds: We are social creatures, and our relationships with others are essential to our well-being and survival.\\n4. Exhibit cultural diversity: Human cultures are incredibly diverse, with varying customs, traditions, and values that shape our individual and collective identities.\\n\\n**Philosophical and Existential Perspective:**\\nThe question \"what is human\" also raises philosophical and existential questions, such as:\\n\\n1. What is the meaning of life?\\n2. What is our purpose?\\n3. How do we define ourselves and our place in the world?\\n4. What is the nature of human existence, and how do we experience it?\\n\\nThese questions have been explored by philosophers, theologians, and thinkers throughout history, and there is no one definitive answer. However, they continue to inspire debate, reflection, and self-discovery.\\n\\nIn conclusion, the concept of \"human\" encompasses a wide range of biological, physical, psychological, social, and philosophical aspects. We are complex, dynamic, and multifaceted beings, and our understanding of what it means to be human is continually evolving.'"
            ]
          },
          "execution_count": 17,
          "metadata": {},
          "output_type": "execute_result"
        }
      ],
      "source": [
        "result.content"
      ]
    },
    {
      "cell_type": "code",
      "execution_count": 18,
      "metadata": {
        "id": "wi5Cxc7NSWaB"
      },
      "outputs": [],
      "source": [
        "itinerary_promopt=ChatPromptTemplate.from_messages([\n",
        "    ('system','You are a helpgul travel assistant.Create a day trip itinerary for {city} based on users interest :{interest} .Provide a brief bullet itinerary'),\n",
        "    ('human','Create an itinerary for my dat trip')\n",
        "])"
      ]
    },
    {
      "cell_type": "code",
      "execution_count": 19,
      "metadata": {
        "id": "3s9O9DvQay78"
      },
      "outputs": [],
      "source": [
        "def input_city(state:PlannerState)->PlannerState:\n",
        "  print(\"Please eneter the city you want to visit for your day trip:\")\n",
        "  user_message=input('Your input:')\n",
        "  return {\n",
        "      **state,\n",
        "      'city':user_message,\n",
        "      'messages':state['messages']+[HumanMessage(content=user_message)]\n",
        "  }\n",
        "def input_interest(state:PlannerState)->PlannerState:\n",
        "  print(f\"Please eneter your interest for the trip to :{state['city']}(comma-separated):\")\n",
        "  user_message=input('Your input:')\n",
        "  return {\n",
        "      **state,\n",
        "      'interest':[interest.strip() for interest in user_message.split(',')],\n",
        "      'messages':state['messages']+[HumanMessage(content=user_message)]\n",
        "  }\n",
        "def create_itinerary(state:PlannerState)->PlannerState:\n",
        "  print(f\"Creating an itinerary for {state['city']} based on interest: {','.join(state['interest'])}\"),\n",
        "\n",
        "  response=llm.invoke(itinerary_promopt.format_messages(city=state['city'],interest=','.join(state['interest'])))\n",
        "  print(\"Final itinerary\")\n",
        "  print(response.content)\n",
        "  return {\n",
        "      **state,\n",
        "\n",
        "      'messages':state['messages']+[AIMessage(content=response.content)],\n",
        "      'itinerary':response.content\n",
        "  }"
      ]
    },
    {
      "cell_type": "code",
      "execution_count": 20,
      "metadata": {
        "colab": {
          "base_uri": "https://localhost:8080/"
        },
        "id": "uRcSqiXCdGSR",
        "outputId": "c08e35d0-b786-490d-e327-87eb2425ff98"
      },
      "outputs": [
        {
          "data": {
            "text/plain": [
              "<langgraph.graph.state.StateGraph at 0x109dfead0>"
            ]
          },
          "execution_count": 20,
          "metadata": {},
          "output_type": "execute_result"
        }
      ],
      "source": [
        "workflow=StateGraph(PlannerState)\n",
        "\n",
        "workflow.add_node('input_city',input_city)\n",
        "workflow.add_node('input_interest',input_interest)\n",
        "workflow.add_node('create_itinerary',create_itinerary)\n",
        "\n",
        "workflow.set_entry_point(\"input_city\")\n",
        "\n",
        "workflow.add_edge('input_city','input_interest')\n",
        "workflow.add_edge('input_interest','create_itinerary')\n",
        "workflow.add_edge('create_itinerary',END)"
      ]
    },
    {
      "cell_type": "code",
      "execution_count": 21,
      "metadata": {
        "colab": {
          "base_uri": "https://localhost:8080/",
          "height": 449
        },
        "id": "GouptJpXiHAK",
        "outputId": "bcf7bcf9-0a14-457d-8336-35c2eb3c82b0"
      },
      "outputs": [
        {
          "data": {
            "image/png": "[encoded data removed]",
            "text/plain": [
              "<langgraph.graph.state.CompiledStateGraph object at 0x109237a90>"
            ]
          },
          "execution_count": 21,
          "metadata": {},
          "output_type": "execute_result"
        }
      ],
      "source": [
        "app=workflow.compile()\n",
        "app"
      ]
    },
    {
      "cell_type": "code",
      "execution_count": 22,
      "metadata": {
        "id": "uDxttDZyiJt7"
      },
      "outputs": [],
      "source": [
        "def travel_planner(user_request: str):\n",
        "  print(f\"Initial Request: {user_request}\\n\")\n",
        "  state = {\n",
        "      \"messages\": [HumanMessage(content=user_request)],\n",
        "      \"city\": \"\",\n",
        "      \"interest\": [],\n",
        "      \"itinerary\": \"\",\n",
        "  }\n",
        "  for output in app.stream(state):\n",
        "    pass"
      ]
    },
    {
      "cell_type": "code",
      "execution_count": 23,
      "metadata": {
        "colab": {
          "base_uri": "https://localhost:8080/"
        },
        "id": "Vesjy8dOkHpV",
        "outputId": "ce22ea97-5cad-4829-db41-5842f50fe27d"
      },
      "outputs": [
        {
          "name": "stdout",
          "output_type": "stream",
          "text": [
            "Initial Request: I want to plan a day trip\n",
            "\n",
            "Please eneter the city you want to visit for your day trip:\n",
            "Please eneter your interest for the trip to :nainital(comma-separated):\n",
            "Creating an itinerary for nainital based on interest: lake\n",
            "Final itinerary\n",
            "Based on your interest in lakes, I've created a day trip itinerary for Nainital. Here's a brief bullet itinerary:\n",
            "\n",
            "* 8:00 AM: Start the day with a visit to **Naini Lake**, a beautiful lake with boating facilities\n",
            "* 10:00 AM: Take a stroll around the **Mall Road**, which offers stunning views of the lake\n",
            "* 12:00 PM: Visit **Bhimtal Lake**, a larger and quieter lake with a beautiful island garden\n",
            "* 2:00 PM: Have lunch at a lakeside restaurant with a view of **Bhimtal Lake**\n",
            "* 4:00 PM: Explore **Naukuchiatal Lake**, a lake with nine corners and a peaceful atmosphere\n",
            "* 6:00 PM: Return to Nainital and enjoy a **sunrise or sunset view** of Naini Lake\n",
            "\n",
            "This itinerary provides a mix of lake visits, scenic views, and relaxation, and can be adjusted according to your preferences and time constraints.\n"
          ]
        }
      ],
      "source": [
        "user_request = \"I want to plan a day trip\"\n",
        "travel_planner(user_request)"
      ]
    },
    {
      "cell_type": "code",
      "execution_count": 24,
      "metadata": {
        "colab": {
          "base_uri": "https://localhost:8080/"
        },
        "id": "lKnGyPntkLnO",
        "outputId": "b06ca05f-1573-4a37-ff0b-569264e64d58"
      },
      "outputs": [
        {
          "name": "stdout",
          "output_type": "stream",
          "text": [
            "Requirement already satisfied: gradio in ./.venv/lib/python3.11/site-packages (5.44.1)\n",
            "Requirement already satisfied: aiofiles<25.0,>=22.0 in ./.venv/lib/python3.11/site-packages (from gradio) (24.1.0)\n",
            "Requirement already satisfied: anyio<5.0,>=3.0 in ./.venv/lib/python3.11/site-packages (from gradio) (4.10.0)\n",
            "Requirement already satisfied: brotli>=1.1.0 in ./.venv/lib/python3.11/site-packages (from gradio) (1.1.0)\n",
            "Requirement already satisfied: fastapi<1.0,>=0.115.2 in ./.venv/lib/python3.11/site-packages (from gradio) (0.116.1)\n",
            "Requirement already satisfied: ffmpy in ./.venv/lib/python3.11/site-packages (from gradio) (0.6.1)\n",
            "Requirement already satisfied: gradio-client==1.12.1 in ./.venv/lib/python3.11/site-packages (from gradio) (1.12.1)\n",
            "Requirement already satisfied: groovy~=0.1 in ./.venv/lib/python3.11/site-packages (from gradio) (0.1.2)\n",
            "Requirement already satisfied: httpx<1.0,>=0.24.1 in ./.venv/lib/python3.11/site-packages (from gradio) (0.28.1)\n",
            "Requirement already satisfied: huggingface-hub<1.0,>=0.33.5 in ./.venv/lib/python3.11/site-packages (from gradio) (0.34.4)\n",
            "Requirement already satisfied: jinja2<4.0 in ./.venv/lib/python3.11/site-packages (from gradio) (3.1.6)\n",
            "Requirement already satisfied: markupsafe<4.0,>=2.0 in ./.venv/lib/python3.11/site-packages (from gradio) (3.0.2)\n",
            "Requirement already satisfied: numpy<3.0,>=1.0 in ./.venv/lib/python3.11/site-packages (from gradio) (1.26.4)\n",
            "Requirement already satisfied: orjson~=3.0 in ./.venv/lib/python3.11/site-packages (from gradio) (3.11.3)\n",
            "Requirement already satisfied: packaging in ./.venv/lib/python3.11/site-packages (from gradio) (24.2)\n",
            "Requirement already satisfied: pandas<3.0,>=1.0 in ./.venv/lib/python3.11/site-packages (from gradio) (2.3.2)\n",
            "Requirement already satisfied: pillow<12.0,>=8.0 in ./.venv/lib/python3.11/site-packages (from gradio) (11.3.0)\n",
            "Requirement already satisfied: pydantic<2.12,>=2.0 in ./.venv/lib/python3.11/site-packages (from gradio) (2.11.7)\n",
            "Requirement already satisfied: pydub in ./.venv/lib/python3.11/site-packages (from gradio) (0.25.1)\n",
            "Requirement already satisfied: python-multipart>=0.0.18 in ./.venv/lib/python3.11/site-packages (from gradio) (0.0.20)\n",
            "Requirement already satisfied: pyyaml<7.0,>=5.0 in ./.venv/lib/python3.11/site-packages (from gradio) (6.0.2)\n",
            "Requirement already satisfied: ruff>=0.9.3 in ./.venv/lib/python3.11/site-packages (from gradio) (0.12.11)\n",
            "Requirement already satisfied: safehttpx<0.2.0,>=0.1.6 in ./.venv/lib/python3.11/site-packages (from gradio) (0.1.6)\n",
            "Requirement already satisfied: semantic-version~=2.0 in ./.venv/lib/python3.11/site-packages (from gradio) (2.10.0)\n",
            "Requirement already satisfied: starlette<1.0,>=0.40.0 in ./.venv/lib/python3.11/site-packages (from gradio) (0.47.3)\n",
            "Requirement already satisfied: tomlkit<0.14.0,>=0.12.0 in ./.venv/lib/python3.11/site-packages (from gradio) (0.13.3)\n",
            "Requirement already satisfied: typer<1.0,>=0.12 in ./.venv/lib/python3.11/site-packages (from gradio) (0.16.1)\n",
            "Requirement already satisfied: typing-extensions~=4.0 in ./.venv/lib/python3.11/site-packages (from gradio) (4.15.0)\n",
            "Requirement already satisfied: uvicorn>=0.14.0 in ./.venv/lib/python3.11/site-packages (from gradio) (0.35.0)\n",
            "Requirement already satisfied: fsspec in ./.venv/lib/python3.11/site-packages (from gradio-client==1.12.1->gradio) (2025.3.0)\n",
            "Requirement already satisfied: websockets<16.0,>=10.0 in ./.venv/lib/python3.11/site-packages (from gradio-client==1.12.1->gradio) (15.0.1)\n",
            "Requirement already satisfied: idna>=2.8 in ./.venv/lib/python3.11/site-packages (from anyio<5.0,>=3.0->gradio) (3.10)\n",
            "Requirement already satisfied: sniffio>=1.1 in ./.venv/lib/python3.11/site-packages (from anyio<5.0,>=3.0->gradio) (1.3.1)\n",
            "Requirement already satisfied: certifi in ./.venv/lib/python3.11/site-packages (from httpx<1.0,>=0.24.1->gradio) (2025.8.3)\n",
            "Requirement already satisfied: httpcore==1.* in ./.venv/lib/python3.11/site-packages (from httpx<1.0,>=0.24.1->gradio) (1.0.9)\n",
            "Requirement already satisfied: h11>=0.16 in ./.venv/lib/python3.11/site-packages (from httpcore==1.*->httpx<1.0,>=0.24.1->gradio) (0.16.0)\n",
            "Requirement already satisfied: filelock in ./.venv/lib/python3.11/site-packages (from huggingface-hub<1.0,>=0.33.5->gradio) (3.19.1)\n",
            "Requirement already satisfied: requests in ./.venv/lib/python3.11/site-packages (from huggingface-hub<1.0,>=0.33.5->gradio) (2.32.5)\n",
            "Requirement already satisfied: tqdm>=4.42.1 in ./.venv/lib/python3.11/site-packages (from huggingface-hub<1.0,>=0.33.5->gradio) (4.67.1)\n",
            "Requirement already satisfied: hf-xet<2.0.0,>=1.1.3 in ./.venv/lib/python3.11/site-packages (from huggingface-hub<1.0,>=0.33.5->gradio) (1.1.8)\n",
            "Requirement already satisfied: python-dateutil>=2.8.2 in ./.venv/lib/python3.11/site-packages (from pandas<3.0,>=1.0->gradio) (2.9.0.post0)\n",
            "Requirement already satisfied: pytz>=2020.1 in ./.venv/lib/python3.11/site-packages (from pandas<3.0,>=1.0->gradio) (2025.2)\n",
            "Requirement already satisfied: tzdata>=2022.7 in ./.venv/lib/python3.11/site-packages (from pandas<3.0,>=1.0->gradio) (2025.2)\n",
            "Requirement already satisfied: annotated-types>=0.6.0 in ./.venv/lib/python3.11/site-packages (from pydantic<2.12,>=2.0->gradio) (0.7.0)\n",
            "Requirement already satisfied: pydantic-core==2.33.2 in ./.venv/lib/python3.11/site-packages (from pydantic<2.12,>=2.0->gradio) (2.33.2)\n",
            "Requirement already satisfied: typing-inspection>=0.4.0 in ./.venv/lib/python3.11/site-packages (from pydantic<2.12,>=2.0->gradio) (0.4.1)\n",
            "Requirement already satisfied: click>=8.0.0 in ./.venv/lib/python3.11/site-packages (from typer<1.0,>=0.12->gradio) (8.2.1)\n",
            "Requirement already satisfied: shellingham>=1.3.0 in ./.venv/lib/python3.11/site-packages (from typer<1.0,>=0.12->gradio) (1.5.4)\n",
            "Requirement already satisfied: rich>=10.11.0 in ./.venv/lib/python3.11/site-packages (from typer<1.0,>=0.12->gradio) (13.9.4)\n",
            "Requirement already satisfied: six>=1.5 in ./.venv/lib/python3.11/site-packages (from python-dateutil>=2.8.2->pandas<3.0,>=1.0->gradio) (1.17.0)\n",
            "Requirement already satisfied: markdown-it-py>=2.2.0 in ./.venv/lib/python3.11/site-packages (from rich>=10.11.0->typer<1.0,>=0.12->gradio) (4.0.0)\n",
            "Requirement already satisfied: pygments<3.0.0,>=2.13.0 in ./.venv/lib/python3.11/site-packages (from rich>=10.11.0->typer<1.0,>=0.12->gradio) (2.19.2)\n",
            "Requirement already satisfied: mdurl~=0.1 in ./.venv/lib/python3.11/site-packages (from markdown-it-py>=2.2.0->rich>=10.11.0->typer<1.0,>=0.12->gradio) (0.1.2)\n",
            "Requirement already satisfied: charset_normalizer<4,>=2 in ./.venv/lib/python3.11/site-packages (from requests->huggingface-hub<1.0,>=0.33.5->gradio) (3.4.3)\n",
            "Requirement already satisfied: urllib3<3,>=1.21.1 in ./.venv/lib/python3.11/site-packages (from requests->huggingface-hub<1.0,>=0.33.5->gradio) (2.5.0)\n",
            "Note: you may need to restart the kernel to use updated packages.\n"
          ]
        }
      ],
      "source": [
        "pip install gradio"
      ]
    },
    {
      "cell_type": "code",
      "execution_count": 26,
      "metadata": {
        "colab": {
          "base_uri": "https://localhost:8080/",
          "height": 777,
          "referenced_widgets": [
            "05a8c0e8f18a4e7ea98963decea59233",
            "32642a93096d44438e58fd7fc249752d",
            "5a7c1a415c704a8fbc8295ba8de8d861",
            "1c49dc8076b445ad875d3cf15cc9eb14",
            "a09aa1964a4e48d09987bad2246f1208",
            "09e9c5f9d15845dbb8adf97cd3263aab",
            "3aa55648c33946f3b48f57920bdaebe6",
            "f43093a40c2e4bd384dc01ce017b79e8",
            "5d1f85fe983f430c9e12114713e920da",
            "73da23ebf7444415bc6bbc725114e476",
            "91fa1506adee4cbc840397e1f0cde0c8"
          ]
        },
        "id": "i2NUaZyzn8KE",
        "outputId": "aeb0e347-dc07-4f29-aeaf-0367013b4ce2"
      },
      "outputs": [
        {
          "name": "stdout",
          "output_type": "stream",
          "text": [
            "* Running on local URL:  http://127.0.0.1:7861\n",
            "* To create a public link, set `share=True` in `launch()`.\n"
          ]
        },
        {
          "data": {
            "text/html": [
              "<div><iframe src=\"http://127.0.0.1:7861/\" width=\"100%\" height=\"500\" allow=\"autoplay; camera; microphone; clipboard-read; clipboard-write;\" frameborder=\"0\" allowfullscreen></iframe></div>"
            ],
            "text/plain": [
              "<IPython.core.display.HTML object>"
            ]
          },
          "metadata": {},
          "output_type": "display_data"
        },
        {
          "data": {
            "text/plain": []
          },
          "execution_count": 26,
          "metadata": {},
          "output_type": "execute_result"
        }
      ],
      "source": [
        "import gradio as gr\n",
        "from typing import TypedDict, Annotated, List\n",
        "from langgraph.graph import StateGraph, END\n",
        "from langchain_core.messages import HumanMessage, AIMessage\n",
        "from langchain_core.prompts import ChatPromptTemplate\n",
        "from langchain_groq import ChatGroq\n",
        "\n",
        "class PlannerState(TypedDict):\n",
        "    messages: Annotated[List[HumanMessage | AIMessage], \"The messages in the conversation\"]\n",
        "    city: str\n",
        "    interests: List[str]\n",
        "    itinerary: str\n",
        "\n",
        "# Define the LLM\n",
        "llm = ChatGroq(\n",
        "    temperature=0,\n",
        "    groq_api_key=groq_api_key,\n",
        "    model_name=\"llama-3.3-70b-versatile\"\n",
        ")\n",
        "\n",
        "# Define the itinerary prompt\n",
        "itinerary_prompt = ChatPromptTemplate.from_messages([\n",
        "    (\"system\", \"You are a helpful travel assistant. Create a day trip itinerary for {city} based on the user's interests: {interests}. Provide a brief, bulleted itinerary.\"),\n",
        "    (\"human\", \"Create an itinerary for my day trip.\"),\n",
        "])\n",
        "\n",
        "def input_city(city: str, state: PlannerState) -> PlannerState:\n",
        "    return {\n",
        "        **state,\n",
        "        \"city\": city,\n",
        "        \"messages\": state['messages'] + [HumanMessage(content=city)],\n",
        "    }\n",
        "\n",
        "def input_interests(interests: str, state: PlannerState) -> PlannerState:\n",
        "    return {\n",
        "        **state,\n",
        "        \"interests\": [interest.strip() for interest in interests.split(',')],\n",
        "        \"messages\": state['messages'] + [HumanMessage(content=interests)],\n",
        "    }\n",
        "\n",
        "def create_itinerary(state: PlannerState) -> str:\n",
        "    response = llm.invoke(itinerary_prompt.format_messages(city=state['city'], interests=\", \".join(state['interests'])))\n",
        "    state[\"itinerary\"] = response.content\n",
        "    state[\"messages\"] += [AIMessage(content=response.content)]\n",
        "    return response.content\n",
        "\n",
        "# Define the Gradio application\n",
        "def travel_planner(city: str, interests: str):\n",
        "    # Initialize state\n",
        "    state = {\n",
        "        \"messages\": [],\n",
        "        \"city\": \"\",\n",
        "        \"interests\": [],\n",
        "        \"itinerary\": \"\",\n",
        "    }\n",
        "\n",
        "    # Process the city and interests inputs\n",
        "    state = input_city(city, state)\n",
        "    state = input_interests(interests, state)\n",
        "\n",
        "    # Generate the itinerary\n",
        "    itinerary = create_itinerary(state)\n",
        "\n",
        "    return itinerary\n",
        "\n",
        "# Build the Gradio interface\n",
        "interface = gr.Interface(\n",
        "    fn=travel_planner,\n",
        "    theme='Yntec/HaleyCH_Theme_Orange_Green',\n",
        "    inputs=[\n",
        "        gr.Textbox(label=\"Enter the city for your day trip\"),\n",
        "        gr.Textbox(label=\"Enter your interests (comma-separated)\"),\n",
        "    ],\n",
        "    outputs=gr.Textbox(label=\"Generated Itinerary\"),\n",
        "    title=\"Travel Itinerary Planner\",\n",
        "    description=\"Enter a city and your interests to generate a personalized day trip itinerary.\"\n",
        ")\n",
        "\n",
        "# Launch the Gradio application\n",
        "interface.launch()\n"
      ]
    },
    {
      "cell_type": "code",
      "execution_count": null,
      "metadata": {
        "id": "3jtFoOtaoAGd"
      },
      "outputs": [],
      "source": []
    }
  ],
  "metadata": {
    "colab": {
      "provenance": []
    },
    "kernelspec": {
      "display_name": ".venv",
      "language": "python",
      "name": "python3"
    },
    "language_info": {
      "codemirror_mode": {
        "name": "ipython",
        "version": 3
      },
      "file_extension": ".py",
      "mimetype": "text/x-python",
      "name": "python",
      "nbconvert_exporter": "python",
      "pygments_lexer": "ipython3",
      "version": "3.11.13"
    },
    "widgets": {
      "application/vnd.jupyter.widget-state+json": {
        "05a8c0e8f18a4e7ea98963decea59233": {
          "model_module": "@jupyter-widgets/controls",
          "model_module_version": "1.5.0",
          "model_name": "HBoxModel",
          "state": {
            "_dom_classes": [],
            "_model_module": "@jupyter-widgets/controls",
            "_model_module_version": "1.5.0",
            "_model_name": "HBoxModel",
            "_view_count": null,
            "_view_module": "@jupyter-widgets/controls",
            "_view_module_version": "1.5.0",
            "_view_name": "HBoxView",
            "box_style": "",
            "children": [
              "IPY_MODEL_32642a93096d44438e58fd7fc249752d",
              "IPY_MODEL_5a7c1a415c704a8fbc8295ba8de8d861",
              "IPY_MODEL_1c49dc8076b445ad875d3cf15cc9eb14"
            ],
            "layout": "IPY_MODEL_a09aa1964a4e48d09987bad2246f1208"
          }
        },
        "09e9c5f9d15845dbb8adf97cd3263aab": {
          "model_module": "@jupyter-widgets/base",
          "model_module_version": "1.2.0",
          "model_name": "LayoutModel",
          "state": {
            "_model_module": "@jupyter-widgets/base",
            "_model_module_version": "1.2.0",
            "_model_name": "LayoutModel",
            "_view_count": null,
            "_view_module": "@jupyter-widgets/base",
            "_view_module_version": "1.2.0",
            "_view_name": "LayoutView",
            "align_content": null,
            "align_items": null,
            "align_self": null,
            "border": null,
            "bottom": null,
            "display": null,
            "flex": null,
            "flex_flow": null,
            "grid_area": null,
            "grid_auto_columns": null,
            "grid_auto_flow": null,
            "grid_auto_rows": null,
            "grid_column": null,
            "grid_gap": null,
            "grid_row": null,
            "grid_template_areas": null,
            "grid_template_columns": null,
            "grid_template_rows": null,
            "height": null,
            "justify_content": null,
            "justify_items": null,
            "left": null,
            "margin": null,
            "max_height": null,
            "max_width": null,
            "min_height": null,
            "min_width": null,
            "object_fit": null,
            "object_position": null,
            "order": null,
            "overflow": null,
            "overflow_x": null,
            "overflow_y": null,
            "padding": null,
            "right": null,
            "top": null,
            "visibility": null,
            "width": null
          }
        },
        "1c49dc8076b445ad875d3cf15cc9eb14": {
          "model_module": "@jupyter-widgets/controls",
          "model_module_version": "1.5.0",
          "model_name": "HTMLModel",
          "state": {
            "_dom_classes": [],
            "_model_module": "@jupyter-widgets/controls",
            "_model_module_version": "1.5.0",
            "_model_name": "HTMLModel",
            "_view_count": null,
            "_view_module": "@jupyter-widgets/controls",
            "_view_module_version": "1.5.0",
            "_view_name": "HTMLView",
            "description": "",
            "description_tooltip": null,
            "layout": "IPY_MODEL_73da23ebf7444415bc6bbc725114e476",
            "placeholder": "​",
            "style": "IPY_MODEL_91fa1506adee4cbc840397e1f0cde0c8",
            "value": " 12.6k/? [00:00&lt;00:00, 963kB/s]"
          }
        },
        "32642a93096d44438e58fd7fc249752d": {
          "model_module": "@jupyter-widgets/controls",
          "model_module_version": "1.5.0",
          "model_name": "HTMLModel",
          "state": {
            "_dom_classes": [],
            "_model_module": "@jupyter-widgets/controls",
            "_model_module_version": "1.5.0",
            "_model_name": "HTMLModel",
            "_view_count": null,
            "_view_module": "@jupyter-widgets/controls",
            "_view_module_version": "1.5.0",
            "_view_name": "HTMLView",
            "description": "",
            "description_tooltip": null,
            "layout": "IPY_MODEL_09e9c5f9d15845dbb8adf97cd3263aab",
            "placeholder": "​",
            "style": "IPY_MODEL_3aa55648c33946f3b48f57920bdaebe6",
            "value": "theme_schema%400.0.1.json: "
          }
        },
        "3aa55648c33946f3b48f57920bdaebe6": {
          "model_module": "@jupyter-widgets/controls",
          "model_module_version": "1.5.0",
          "model_name": "DescriptionStyleModel",
          "state": {
            "_model_module": "@jupyter-widgets/controls",
            "_model_module_version": "1.5.0",
            "_model_name": "DescriptionStyleModel",
            "_view_count": null,
            "_view_module": "@jupyter-widgets/base",
            "_view_module_version": "1.2.0",
            "_view_name": "StyleView",
            "description_width": ""
          }
        },
        "5a7c1a415c704a8fbc8295ba8de8d861": {
          "model_module": "@jupyter-widgets/controls",
          "model_module_version": "1.5.0",
          "model_name": "FloatProgressModel",
          "state": {
            "_dom_classes": [],
            "_model_module": "@jupyter-widgets/controls",
            "_model_module_version": "1.5.0",
            "_model_name": "FloatProgressModel",
            "_view_count": null,
            "_view_module": "@jupyter-widgets/controls",
            "_view_module_version": "1.5.0",
            "_view_name": "ProgressView",
            "bar_style": "success",
            "description": "",
            "description_tooltip": null,
            "layout": "IPY_MODEL_f43093a40c2e4bd384dc01ce017b79e8",
            "max": 1,
            "min": 0,
            "orientation": "horizontal",
            "style": "IPY_MODEL_5d1f85fe983f430c9e12114713e920da",
            "value": 1
          }
        },
        "5d1f85fe983f430c9e12114713e920da": {
          "model_module": "@jupyter-widgets/controls",
          "model_module_version": "1.5.0",
          "model_name": "ProgressStyleModel",
          "state": {
            "_model_module": "@jupyter-widgets/controls",
            "_model_module_version": "1.5.0",
            "_model_name": "ProgressStyleModel",
            "_view_count": null,
            "_view_module": "@jupyter-widgets/base",
            "_view_module_version": "1.2.0",
            "_view_name": "StyleView",
            "bar_color": null,
            "description_width": ""
          }
        },
        "73da23ebf7444415bc6bbc725114e476": {
          "model_module": "@jupyter-widgets/base",
          "model_module_version": "1.2.0",
          "model_name": "LayoutModel",
          "state": {
            "_model_module": "@jupyter-widgets/base",
            "_model_module_version": "1.2.0",
            "_model_name": "LayoutModel",
            "_view_count": null,
            "_view_module": "@jupyter-widgets/base",
            "_view_module_version": "1.2.0",
            "_view_name": "LayoutView",
            "align_content": null,
            "align_items": null,
            "align_self": null,
            "border": null,
            "bottom": null,
            "display": null,
            "flex": null,
            "flex_flow": null,
            "grid_area": null,
            "grid_auto_columns": null,
            "grid_auto_flow": null,
            "grid_auto_rows": null,
            "grid_column": null,
            "grid_gap": null,
            "grid_row": null,
            "grid_template_areas": null,
            "grid_template_columns": null,
            "grid_template_rows": null,
            "height": null,
            "justify_content": null,
            "justify_items": null,
            "left": null,
            "margin": null,
            "max_height": null,
            "max_width": null,
            "min_height": null,
            "min_width": null,
            "object_fit": null,
            "object_position": null,
            "order": null,
            "overflow": null,
            "overflow_x": null,
            "overflow_y": null,
            "padding": null,
            "right": null,
            "top": null,
            "visibility": null,
            "width": null
          }
        },
        "91fa1506adee4cbc840397e1f0cde0c8": {
          "model_module": "@jupyter-widgets/controls",
          "model_module_version": "1.5.0",
          "model_name": "DescriptionStyleModel",
          "state": {
            "_model_module": "@jupyter-widgets/controls",
            "_model_module_version": "1.5.0",
            "_model_name": "DescriptionStyleModel",
            "_view_count": null,
            "_view_module": "@jupyter-widgets/base",
            "_view_module_version": "1.2.0",
            "_view_name": "StyleView",
            "description_width": ""
          }
        },
        "a09aa1964a4e48d09987bad2246f1208": {
          "model_module": "@jupyter-widgets/base",
          "model_module_version": "1.2.0",
          "model_name": "LayoutModel",
          "state": {
            "_model_module": "@jupyter-widgets/base",
            "_model_module_version": "1.2.0",
            "_model_name": "LayoutModel",
            "_view_count": null,
            "_view_module": "@jupyter-widgets/base",
            "_view_module_version": "1.2.0",
            "_view_name": "LayoutView",
            "align_content": null,
            "align_items": null,
            "align_self": null,
            "border": null,
            "bottom": null,
            "display": null,
            "flex": null,
            "flex_flow": null,
            "grid_area": null,
            "grid_auto_columns": null,
            "grid_auto_flow": null,
            "grid_auto_rows": null,
            "grid_column": null,
            "grid_gap": null,
            "grid_row": null,
            "grid_template_areas": null,
            "grid_template_columns": null,
            "grid_template_rows": null,
            "height": null,
            "justify_content": null,
            "justify_items": null,
            "left": null,
            "margin": null,
            "max_height": null,
            "max_width": null,
            "min_height": null,
            "min_width": null,
            "object_fit": null,
            "object_position": null,
            "order": null,
            "overflow": null,
            "overflow_x": null,
            "overflow_y": null,
            "padding": null,
            "right": null,
            "top": null,
            "visibility": null,
            "width": null
          }
        },
        "f43093a40c2e4bd384dc01ce017b79e8": {
          "model_module": "@jupyter-widgets/base",
          "model_module_version": "1.2.0",
          "model_name": "LayoutModel",
          "state": {
            "_model_module": "@jupyter-widgets/base",
            "_model_module_version": "1.2.0",
            "_model_name": "LayoutModel",
            "_view_count": null,
            "_view_module": "@jupyter-widgets/base",
            "_view_module_version": "1.2.0",
            "_view_name": "LayoutView",
            "align_content": null,
            "align_items": null,
            "align_self": null,
            "border": null,
            "bottom": null,
            "display": null,
            "flex": null,
            "flex_flow": null,
            "grid_area": null,
            "grid_auto_columns": null,
            "grid_auto_flow": null,
            "grid_auto_rows": null,
            "grid_column": null,
            "grid_gap": null,
            "grid_row": null,
            "grid_template_areas": null,
            "grid_template_columns": null,
            "grid_template_rows": null,
            "height": null,
            "justify_content": null,
            "justify_items": null,
            "left": null,
            "margin": null,
            "max_height": null,
            "max_width": null,
            "min_height": null,
            "min_width": null,
            "object_fit": null,
            "object_position": null,
            "order": null,
            "overflow": null,
            "overflow_x": null,
            "overflow_y": null,
            "padding": null,
            "right": null,
            "top": null,
            "visibility": null,
            "width": "20px"
          }
        }
      }
    }
  },
  "nbformat": 4,
  "nbformat_minor": 0
}
